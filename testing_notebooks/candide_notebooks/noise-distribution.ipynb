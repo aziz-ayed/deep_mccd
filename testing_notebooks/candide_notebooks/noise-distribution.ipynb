{
 "cells": [
  {
   "cell_type": "code",
   "execution_count": 6,
   "metadata": {},
   "outputs": [
    {
     "name": "stdout",
     "output_type": "stream",
     "text": [
      "Populating the interactive namespace from numpy and matplotlib\n"
     ]
    }
   ],
   "source": [
    "\n",
    "import numpy as np\n",
    "import matplotlib.pyplot as plt\n",
    "import tensorflow as tf\n",
    "\n",
    "%pylab inline\n"
   ]
  },
  {
   "cell_type": "code",
   "execution_count": null,
   "metadata": {},
   "outputs": [],
   "source": []
  },
  {
   "cell_type": "code",
   "execution_count": null,
   "metadata": {},
   "outputs": [],
   "source": []
  },
  {
   "cell_type": "code",
   "execution_count": null,
   "metadata": {},
   "outputs": [],
   "source": [
    "\n",
    "\n"
   ]
  },
  {
   "cell_type": "code",
   "execution_count": 23,
   "metadata": {},
   "outputs": [],
   "source": [
    "snr_range = [1e-3, 100]\n",
    "\n",
    "# Generate uniform value\n",
    "rand_val = np.random.rand(100000) * (snr_range[1] - snr_range[0]) + snr_range[0]\n",
    "# Generate new distribution\n",
    "new_rand_val = np.array([np.random.rand() * (_r - snr_range[0]) + snr_range[0] for _r in rand_val])\n"
   ]
  },
  {
   "cell_type": "code",
   "execution_count": 24,
   "metadata": {},
   "outputs": [
    {
     "data": {
      "image/png": "[encoded data removed]",
      "text/plain": [
       "<Figure size 720x432 with 1 Axes>"
      ]
     },
     "metadata": {
      "needs_background": "light"
     },
     "output_type": "display_data"
    }
   ],
   "source": [
    "\n",
    "figure(figsize=(10,6))\n",
    "_ = plt.hist(new_rand_val, range=(0,snr_range[1]), bins=50, density=True, alpha=0.5, label='original')\n",
    "_ = plt.hist(rand_val, range=(0,snr_range[1]), bins=50, density=True, alpha=0.5, label='modified')\n",
    "plt.ylabel('Density: p(x)')\n",
    "plt.xlabel('Input values: x')\n",
    "plt.legend()\n",
    "plt.show()\n"
   ]
  },
  {
   "cell_type": "code",
   "execution_count": 11,
   "metadata": {},
   "outputs": [],
   "source": [
    "enhance_noise = True"
   ]
  },
  {
   "cell_type": "code",
   "execution_count": 17,
   "metadata": {},
   "outputs": [],
   "source": [
    "snr_range = [1e-3, 100]\n",
    "tf_snr_range = tf.cast(snr_range, dtype=tf.float64)\n",
    "\n",
    "snr = tf.random.uniform(\n",
    "        (1,),\n",
    "        minval=snr_range[0],\n",
    "        maxval=snr_range[1],\n",
    "        dtype=tf.float64\n",
    "    )"
   ]
  },
  {
   "cell_type": "code",
   "execution_count": 18,
   "metadata": {},
   "outputs": [
    {
     "data": {
      "text/plain": [
       "<tf.Tensor: shape=(1,), dtype=float64, numpy=array([81.18133202])>"
      ]
     },
     "execution_count": 18,
     "metadata": {},
     "output_type": "execute_result"
    }
   ],
   "source": [
    "snr"
   ]
  },
  {
   "cell_type": "code",
   "execution_count": 19,
   "metadata": {},
   "outputs": [
    {
     "data": {
      "text/plain": [
       "<tf.Tensor: shape=(1,), dtype=float64, numpy=array([31.65848304])>"
      ]
     },
     "execution_count": 19,
     "metadata": {},
     "output_type": "execute_result"
    }
   ],
   "source": [
    "\n",
    "if enhance_noise:\n",
    "    snr = tf.random.uniform(\n",
    "        (1,),\n",
    "        minval=snr_range[0],\n",
    "        maxval=snr[0],\n",
    "        dtype=tf.float64\n",
    "    )\n",
    "    \n",
    "snr"
   ]
  },
  {
   "cell_type": "code",
   "execution_count": null,
   "metadata": {},
   "outputs": [],
   "source": []
  },
  {
   "cell_type": "code",
   "execution_count": null,
   "metadata": {},
   "outputs": [],
   "source": []
  }
 ],
 "metadata": {
  "kernelspec": {
   "display_name": "Python 3",
   "language": "python",
   "name": "python3"
  },
  "language_info": {
   "codemirror_mode": {
    "name": "ipython",
    "version": 3
   },
   "file_extension": ".py",
   "mimetype": "text/x-python",
   "name": "python",
   "nbconvert_exporter": "python",
   "pygments_lexer": "ipython3",
   "version": "3.7.7"
  }
 },
 "nbformat": 4,
 "nbformat_minor": 4
}
