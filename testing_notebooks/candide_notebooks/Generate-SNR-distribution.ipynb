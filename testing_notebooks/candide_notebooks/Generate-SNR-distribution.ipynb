{
 "cells": [
  {
   "cell_type": "code",
   "execution_count": 1,
   "metadata": {},
   "outputs": [
    {
     "name": "stderr",
     "output_type": "stream",
     "text": [
      "\u001b[33mWARNING\u001b[0m: Using pyFFTW \"monkey patch\" for scipy.fftpack\n"
     ]
    },
    {
     "name": "stdout",
     "output_type": "stream",
     "text": [
      "runstats and/or skimage could not be imported because not installed\n",
      "Populating the interactive namespace from numpy and matplotlib\n",
      "2.4.4\n"
     ]
    }
   ],
   "source": [
    "import numpy as np\n",
    "import tensorflow as tf\n",
    "import matplotlib.pyplot as plt\n",
    "\n",
    "import mccd\n",
    "from astropy.io import fits\n",
    "\n",
    "%pylab inline\n",
    "\n",
    "print(tf.__version__)\n",
    "\n",
    "\n"
   ]
  },
  {
   "cell_type": "code",
   "execution_count": 2,
   "metadata": {},
   "outputs": [],
   "source": [
    "import scipy\n"
   ]
  },
  {
   "cell_type": "code",
   "execution_count": 3,
   "metadata": {},
   "outputs": [],
   "source": [
    "\n",
    "SNR_path = '/home/tliaudat/github/aziz_repos/deep_mccd/data/realistic_dataset_input/full_SNR.npy'\n",
    "\n",
    "SNR_data = np.load(SNR_path, allow_pickle=True)\n"
   ]
  },
  {
   "cell_type": "code",
   "execution_count": 4,
   "metadata": {},
   "outputs": [
    {
     "data": {
      "text/plain": [
       "(535417,)"
      ]
     },
     "execution_count": 4,
     "metadata": {},
     "output_type": "execute_result"
    }
   ],
   "source": [
    "SNR_data.shape"
   ]
  },
  {
   "cell_type": "code",
   "execution_count": 8,
   "metadata": {},
   "outputs": [
    {
     "data": {
      "image/png": "[encoded data removed]",
      "text/plain": [
       "<Figure size 720x432 with 1 Axes>"
      ]
     },
     "metadata": {
      "needs_background": "light"
     },
     "output_type": "display_data"
    },
    {
     "data": {
      "image/png": "[encoded data removed]",
      "text/plain": [
       "<Figure size 720x432 with 1 Axes>"
      ]
     },
     "metadata": {
      "needs_background": "light"
     },
     "output_type": "display_data"
    }
   ],
   "source": [
    "\n",
    "figure(figsize=(10,6))\n",
    "_ = plt.hist(SNR_data, bins=1000, range=(0, 500))\n",
    "plt.xlabel('SNR')\n",
    "plt.ylabel('Count')\n",
    "show()\n",
    "\n",
    "figure(figsize=(10,6))\n",
    "_ = plt.hist(SNR_data, bins=200, range=(0, 50))\n",
    "plt.xlabel('SNR')\n",
    "plt.ylabel('Count')\n",
    "show()\n",
    "\n",
    "\n"
   ]
  },
  {
   "cell_type": "code",
   "execution_count": 10,
   "metadata": {},
   "outputs": [],
   "source": [
    "\n",
    "fwhm_dist_path = '/home/tliaudat/github/aziz_repos/deep_mccd/data/realistic_dataset_input/seeing_distribution.npy'\n",
    "fwhm_dist = np.load(fwhm_dist_path, allow_pickle=True)[()]\n"
   ]
  },
  {
   "cell_type": "code",
   "execution_count": null,
   "metadata": {},
   "outputs": [],
   "source": []
  },
  {
   "cell_type": "code",
   "execution_count": 27,
   "metadata": {},
   "outputs": [],
   "source": [
    "# Create distribution\n",
    "hist = np.histogram(SNR_data, bins=1000, range=[0, 500])\n",
    "hist_dist = scipy.stats.rv_histogram(hist)\n",
    "save_path = '/home/tliaudat/github/aziz_repos/deep_mccd/data/realistic_dataset_input/SNR_dist.npy'\n",
    "np.save(save_path, hist_dist, allow_pickle=True) \n"
   ]
  },
  {
   "cell_type": "code",
   "execution_count": 26,
   "metadata": {},
   "outputs": [],
   "source": [
    "\n"
   ]
  },
  {
   "cell_type": "code",
   "execution_count": 42,
   "metadata": {},
   "outputs": [
    {
     "data": {
      "image/png": "[encoded data removed]",
      "text/plain": [
       "<Figure size 432x288 with 1 Axes>"
      ]
     },
     "metadata": {
      "needs_background": "light"
     },
     "output_type": "display_data"
    }
   ],
   "source": [
    "\n",
    "X = np.linspace(0., 500.0, 200)\n",
    "\n",
    "plt.title(\"PDF from Template\")\n",
    "plt.hist(SNR_data, density=True, bins=200, range=[0, 500])\n",
    "plt.plot(X, hist_dist.pdf(X), label='PDF')\n",
    "plt.plot(X, hist_dist.cdf(X), label='CDF')\n",
    "plt.show()\n"
   ]
  },
  {
   "cell_type": "code",
   "execution_count": null,
   "metadata": {},
   "outputs": [],
   "source": []
  },
  {
   "cell_type": "code",
   "execution_count": 41,
   "metadata": {},
   "outputs": [
    {
     "data": {
      "text/plain": [
       "array([442.08952644])"
      ]
     },
     "execution_count": 41,
     "metadata": {},
     "output_type": "execute_result"
    }
   ],
   "source": [
    "\n",
    "new_SNR = hist_dist.ppf(np.random.rand(1))\n",
    "new_SNR\n"
   ]
  },
  {
   "cell_type": "code",
   "execution_count": 38,
   "metadata": {},
   "outputs": [],
   "source": [
    "\n",
    "loaded_dist = np.load(save_path, allow_pickle=True)[()]\n"
   ]
  },
  {
   "cell_type": "code",
   "execution_count": 39,
   "metadata": {},
   "outputs": [
    {
     "data": {
      "text/plain": [
       "<scipy.stats._continuous_distns.rv_histogram at 0x7f0cb17b2990>"
      ]
     },
     "execution_count": 39,
     "metadata": {},
     "output_type": "execute_result"
    }
   ],
   "source": [
    "loaded_dist\n"
   ]
  },
  {
   "cell_type": "code",
   "execution_count": null,
   "metadata": {},
   "outputs": [],
   "source": []
  },
  {
   "cell_type": "code",
   "execution_count": null,
   "metadata": {},
   "outputs": [],
   "source": []
  }
 ],
 "metadata": {
  "kernelspec": {
   "display_name": "Python 3",
   "language": "python",
   "name": "python3"
  },
  "language_info": {
   "codemirror_mode": {
    "name": "ipython",
    "version": 3
   },
   "file_extension": ".py",
   "mimetype": "text/x-python",
   "name": "python",
   "nbconvert_exporter": "python",
   "pygments_lexer": "ipython3",
   "version": "3.7.7"
  }
 },
 "nbformat": 4,
 "nbformat_minor": 4
}
