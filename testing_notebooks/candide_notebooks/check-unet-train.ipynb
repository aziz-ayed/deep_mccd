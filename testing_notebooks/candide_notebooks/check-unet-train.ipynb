{
 "cells": [
  {
   "cell_type": "code",
   "execution_count": 1,
   "metadata": {},
   "outputs": [
    {
     "name": "stdout",
     "output_type": "stream",
     "text": [
      "Populating the interactive namespace from numpy and matplotlib\n"
     ]
    },
    {
     "name": "stderr",
     "output_type": "stream",
     "text": [
      "\u001b[33mWARNING\u001b[0m: Using pyFFTW \"monkey patch\" for scipy.fftpack\n"
     ]
    },
    {
     "name": "stdout",
     "output_type": "stream",
     "text": [
      "runstats and/or skimage could not be imported because not installed\n"
     ]
    }
   ],
   "source": [
    "\n",
    "import numpy as np\n",
    "import tensorflow as tf\n",
    "\n",
    "%pylab inline\n",
    "\n",
    "import mccd\n",
    "from astropy.io import fits\n"
   ]
  },
  {
   "cell_type": "code",
   "execution_count": 4,
   "metadata": {},
   "outputs": [
    {
     "name": "stdout",
     "output_type": "stream",
     "text": [
      "/device:GPU:0\n"
     ]
    }
   ],
   "source": [
    "print(tf.test.gpu_device_name()) \n",
    "\n",
    "import matplotlib.pyplot as plt\n",
    "from mccd.denoising.unets.unet import Unet\n",
    "from mccd.denoising.preprocessing import eigenPSF_data_gen\n",
    "from mccd.denoising.evaluate import keras_psnr, center_keras_psnr\n"
   ]
  },
  {
   "cell_type": "code",
   "execution_count": 5,
   "metadata": {},
   "outputs": [],
   "source": [
    "\n",
    "# Paths\n",
    "eigenpsf_dataset_path = '/n05data/ayed/outputs/eigenpsfs/global_eigenpsfs.fits'\n",
    "base_save_path = '/n05data/tliaudat/new_deepmccd/reproduce_aziz_results/testing_networks/unets/'\n",
    "checkpoint_path = base_save_path + 'cp_256.h5'\n",
    "\n"
   ]
  },
  {
   "cell_type": "code",
   "execution_count": 6,
   "metadata": {},
   "outputs": [],
   "source": [
    "img = fits.open(eigenpsf_dataset_path)\n",
    "img = img[1].data['VIGNETS_NOISELESS']\n",
    "\n"
   ]
  },
  {
   "cell_type": "code",
   "execution_count": 9,
   "metadata": {},
   "outputs": [],
   "source": [
    "size_train = np.floor(len(img)*0.90)\n",
    "training, test = img[:int(size_train),:,:], img[int(size_train):,:,:]\n",
    "\n",
    "batch_size = 32\n",
    "\n"
   ]
  },
  {
   "cell_type": "code",
   "execution_count": 10,
   "metadata": {},
   "outputs": [],
   "source": [
    "training_ds = eigenPSF_data_gen(data=training,\n",
    "                    snr_range=[0.1,100],\n",
    "                    img_shape=(51, 51),\n",
    "                    batch_size=batch_size,\n",
    "                    n_shuffle=50,\n",
    "                    noise_estimator=False)\n",
    "\n",
    "test_ds = eigenPSF_data_gen(data=test,\n",
    "                 snr_range=[0.1,100],\n",
    "                 img_shape=(51, 51),\n",
    "                 batch_size=1,\n",
    "                 noise_estimator=False)\n",
    "\n"
   ]
  },
  {
   "cell_type": "code",
   "execution_count": null,
   "metadata": {},
   "outputs": [],
   "source": [
    "\n",
    "n_epochs = 1000\n",
    "steps = int(size_train/batch_size)\n",
    "\n",
    "model = Unet(n_output_channels=1, kernel_size=3, layers_n_channels=[32, 64, 128, 256, 512])\n",
    "\n",
    "adam = tf.keras.optimizers.Adam(learning_rate=1e-3)\n",
    "\n",
    "model.compile(\n",
    "    optimizer=adam,\n",
    "    loss='mse',\n",
    "    metrics=['mse', keras_psnr, center_keras_psnr],\n",
    ")\n"
   ]
  },
  {
   "cell_type": "code",
   "execution_count": null,
   "metadata": {},
   "outputs": [],
   "source": []
  },
  {
   "cell_type": "code",
   "execution_count": null,
   "metadata": {},
   "outputs": [],
   "source": []
  },
  {
   "cell_type": "code",
   "execution_count": null,
   "metadata": {},
   "outputs": [],
   "source": []
  },
  {
   "cell_type": "code",
   "execution_count": null,
   "metadata": {},
   "outputs": [],
   "source": []
  },
  {
   "cell_type": "code",
   "execution_count": null,
   "metadata": {},
   "outputs": [],
   "source": []
  },
  {
   "cell_type": "code",
   "execution_count": null,
   "metadata": {},
   "outputs": [],
   "source": []
  },
  {
   "cell_type": "code",
   "execution_count": null,
   "metadata": {},
   "outputs": [],
   "source": []
  },
  {
   "cell_type": "code",
   "execution_count": null,
   "metadata": {},
   "outputs": [],
   "source": []
  }
 ],
 "metadata": {
  "kernelspec": {
   "display_name": "Python 3",
   "language": "python",
   "name": "python3"
  },
  "language_info": {
   "codemirror_mode": {
    "name": "ipython",
    "version": 3
   },
   "file_extension": ".py",
   "mimetype": "text/x-python",
   "name": "python",
   "nbconvert_exporter": "python",
   "pygments_lexer": "ipython3",
   "version": "3.7.7"
  }
 },
 "nbformat": 4,
 "nbformat_minor": 4
}
