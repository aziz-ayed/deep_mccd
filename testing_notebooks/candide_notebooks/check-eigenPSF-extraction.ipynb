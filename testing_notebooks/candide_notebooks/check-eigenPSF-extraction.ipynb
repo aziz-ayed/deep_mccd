{
 "cells": [
  {
   "cell_type": "code",
   "execution_count": 1,
   "metadata": {},
   "outputs": [
    {
     "name": "stderr",
     "output_type": "stream",
     "text": [
      "\u001b[33mWARNING\u001b[0m: Using pyFFTW \"monkey patch\" for scipy.fftpack\n"
     ]
    },
    {
     "name": "stdout",
     "output_type": "stream",
     "text": [
      "runstats and/or skimage could not be imported because not installed\n",
      "Populating the interactive namespace from numpy and matplotlib\n"
     ]
    }
   ],
   "source": [
    "\n",
    "import numpy as np\n",
    "import glob\n",
    "import mccd\n",
    "\n",
    "%pylab inline\n"
   ]
  },
  {
   "cell_type": "code",
   "execution_count": 3,
   "metadata": {},
   "outputs": [],
   "source": [
    "\n",
    "data_dir_path = '/n05data/tliaudat/new_deepmccd/training_realistic_sims/output_mccd/trained_models/'\n",
    "model_pattern = 'fitted_model-*.npy'\n",
    "save_dir_path = '/n05data/tliaudat/new_deepmccd/training_realistic_sims/output_mccd/eigenPSF_datasets/'\n",
    "\n",
    "file_paths = glob.glob(data_dir_path + model_pattern)\n",
    "\n",
    "short_file_paths = [file_paths[0], file_paths[1]]\n"
   ]
  },
  {
   "cell_type": "code",
   "execution_count": 28,
   "metadata": {},
   "outputs": [
    {
     "data": {
      "text/plain": [
       "['/n05data/tliaudat/new_deepmccd/training_realistic_sims/output_mccd/trained_models/fitted_model-2200000.npy',\n",
       " '/n05data/tliaudat/new_deepmccd/training_realistic_sims/output_mccd/trained_models/fitted_model-2200001.npy']"
      ]
     },
     "execution_count": 28,
     "metadata": {},
     "output_type": "execute_result"
    }
   ],
   "source": [
    "short_file_paths"
   ]
  },
  {
   "cell_type": "code",
   "execution_count": 29,
   "metadata": {},
   "outputs": [],
   "source": [
    "\n",
    "global_eigenPSFs = []\n",
    "local_eigenPSFs = []\n",
    "\n",
    "for path in short_file_paths:\n",
    "    \n",
    "    fitted_model = np.load(path, allow_pickle=True)\n",
    "    S = fitted_model[1]['S']\n",
    "    \n",
    "    global_eigenPSFs.append(mccd.utils.reg_format(S[-1]))\n",
    "\n",
    "    for k in range (40):\n",
    "        local_eigenPSFs.append(mccd.utils.reg_format(S[k]))\n",
    "\n",
    "# Concatenate list to np.ndarray\n",
    "global_eigenPSFs = np.concatenate(global_eigenPSFs, axis=0)\n",
    "local_eigenPSFs = np.concatenate(local_eigenPSFs, axis=0)\n",
    "\n",
    "# Shuffle vignets\n",
    "np.random.shuffle(global_eigenPSFs)\n",
    "np.random.shuffle(local_eigenPSFs)\n",
    "\n"
   ]
  },
  {
   "cell_type": "code",
   "execution_count": 30,
   "metadata": {},
   "outputs": [],
   "source": [
    "\n",
    "save_dic = {'VIGNETS_NOISELESS': global_eigenPSFs}\n",
    "mccd.mccd_utils.save_to_fits(save_dic, save_dir_path + 'test_global_eigenpsfs.fits')\n",
    "\n",
    "save_dic = {'VIGNETS_NOISELESS': local_eigenPSFs}\n",
    "mccd.mccd_utils.save_to_fits(save_dic, save_dir_path + 'test_local_eigenpsfs.fits')\n",
    "\n",
    "save_dic = {'VIGNETS_NOISELESS': np.concatenate((global_eigenPSFs, local_eigenPSFs), axis=0)}\n",
    "mccd.mccd_utils.save_to_fits(save_dic, save_dir_path + 'test_all_eigenpsfs.fits')\n"
   ]
  },
  {
   "cell_type": "code",
   "execution_count": 2,
   "metadata": {},
   "outputs": [],
   "source": [
    "from astropy.io import fits"
   ]
  },
  {
   "cell_type": "code",
   "execution_count": 32,
   "metadata": {},
   "outputs": [],
   "source": [
    "\n",
    "saved_data = fits.open(save_dir_path + 'test_all_eigenpsfs.fits')\n"
   ]
  },
  {
   "cell_type": "code",
   "execution_count": 34,
   "metadata": {},
   "outputs": [
    {
     "data": {
      "text/plain": [
       "(1210, 51, 51)"
      ]
     },
     "execution_count": 34,
     "metadata": {},
     "output_type": "execute_result"
    }
   ],
   "source": [
    "saved_data[1].data['VIGNETS_NOISELESS'].shape"
   ]
  },
  {
   "cell_type": "code",
   "execution_count": 47,
   "metadata": {},
   "outputs": [],
   "source": [
    "\n",
    "imshow(saved_data[1].data['VIGNETS_NOISELESS'][220,:,:]);colorbar()\n"
   ]
  },
  {
   "cell_type": "code",
   "execution_count": null,
   "metadata": {},
   "outputs": [],
   "source": []
  },
  {
   "cell_type": "code",
   "execution_count": 4,
   "metadata": {},
   "outputs": [
    {
     "data": {
      "text/plain": [
       "(302500, 51, 51)"
      ]
     },
     "execution_count": 4,
     "metadata": {},
     "output_type": "execute_result"
    }
   ],
   "source": [
    "# New dataset\n",
    "saved_data = fits.open(save_dir_path + 'all_eigenpsfs.fits')\n",
    "saved_data[1].data['VIGNETS_NOISELESS'].shape\n",
    "\n",
    "# (302500, 51, 51)\n"
   ]
  },
  {
   "cell_type": "code",
   "execution_count": 5,
   "metadata": {},
   "outputs": [
    {
     "name": "stdout",
     "output_type": "stream",
     "text": [
      "total 15G\n",
      "drwxrwxr-x 2 ayed ayed  109 Jul 19  2021 .\n",
      "drwxrwxr-x 5 ayed ayed 4.0K Jul 18  2021 ..\n",
      "-rw-rw-r-- 1 ayed ayed 5.2G Jul 19  2021 dataset_eigenpsfs.fits\n",
      "-rw-rw-r-- 1 ayed ayed 391M Jul 19  2021 global_eigenpsfs.fits\n",
      "-rw-rw-r-- 1 ayed ayed 4.8G Jul 19  2021 local_eigenpsfs.fits\n"
     ]
    }
   ],
   "source": [
    "\n",
    "!ls -lah /n05data/ayed/outputs/eigenpsfs/\n"
   ]
  },
  {
   "cell_type": "code",
   "execution_count": 6,
   "metadata": {},
   "outputs": [
    {
     "data": {
      "text/plain": [
       "(264385, 51, 51)"
      ]
     },
     "execution_count": 6,
     "metadata": {},
     "output_type": "execute_result"
    }
   ],
   "source": [
    "\n",
    "old_save_dir_path = '/n05data/ayed/outputs/eigenpsfs/'\n",
    "\n",
    "# Old dataset\n",
    "old_data = fits.open(old_save_dir_path + 'dataset_eigenpsfs.fits')\n",
    "old_data[1].data['VIGNETS_NOISELESS'].shape\n",
    "\n",
    "# (264385, 51, 51)\n"
   ]
  },
  {
   "cell_type": "code",
   "execution_count": null,
   "metadata": {},
   "outputs": [],
   "source": []
  },
  {
   "cell_type": "code",
   "execution_count": null,
   "metadata": {},
   "outputs": [],
   "source": []
  }
 ],
 "metadata": {
  "kernelspec": {
   "display_name": "Python 3",
   "language": "python",
   "name": "python3"
  },
  "language_info": {
   "codemirror_mode": {
    "name": "ipython",
    "version": 3
   },
   "file_extension": ".py",
   "mimetype": "text/x-python",
   "name": "python",
   "nbconvert_exporter": "python",
   "pygments_lexer": "ipython3",
   "version": "3.7.7"
  }
 },
 "nbformat": 4,
 "nbformat_minor": 4
}
