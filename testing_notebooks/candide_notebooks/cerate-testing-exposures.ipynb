{
 "cells": [
  {
   "cell_type": "code",
   "execution_count": 1,
   "metadata": {},
   "outputs": [
    {
     "name": "stderr",
     "output_type": "stream",
     "text": [
      "\u001b[33mWARNING\u001b[0m: Using pyFFTW \"monkey patch\" for scipy.fftpack\n"
     ]
    },
    {
     "name": "stdout",
     "output_type": "stream",
     "text": [
      "runstats and/or skimage could not be imported because not installed\n",
      "Populating the interactive namespace from numpy and matplotlib\n",
      "2.4.4\n"
     ]
    }
   ],
   "source": [
    "import numpy as np\n",
    "import tensorflow as tf\n",
    "import matplotlib.pyplot as plt\n",
    "\n",
    "import mccd\n",
    "from astropy.io import fits\n",
    "\n",
    "%pylab inline\n",
    "\n",
    "print(tf.__version__)\n"
   ]
  },
  {
   "cell_type": "code",
   "execution_count": 6,
   "metadata": {},
   "outputs": [],
   "source": [
    "\n",
    "base_path = '/home/tliaudat/github/aziz_repos/deep_mccd/data/realistic_dataset_input'\n",
    "e1_path = base_path + '/e1_psf.npy'\n",
    "e2_path = base_path + '/e2_psf.npy'\n",
    "fwhm_path = base_path + '/seeing_distribution.npy'\n",
    "output_path = '/n05data/tliaudat/new_deepmccd/testing_realistic_sims/inputs/low_density/'\n"
   ]
  },
  {
   "cell_type": "code",
   "execution_count": 2,
   "metadata": {},
   "outputs": [],
   "source": [
    "# Create testing exposures\n",
    "\n",
    "n_procs = 1\n",
    "\n",
    "cat_id_list = [2500000 + i for i in range(n_procs)]\n",
    "\n",
    "\n",
    "def generate_low_density_dataset(cat_id):\n",
    "    print('\\nProcessing catalog: ', cat_id)\n",
    "    sim_dataset_generator = mccd.dataset_generation.GenerateRealisticDataset(\n",
    "        e1_path=e1_path,\n",
    "        e2_path=e2_path,\n",
    "        size_path=fwhm_path,\n",
    "        range_mean_star_qt=[15, 15],\n",
    "        range_dev_star_nb=[-1, 1], \n",
    "        save_realisation=False,\n",
    "        output_path=output_path,\n",
    "        catalog_id=cat_id)\n",
    "    sim_dataset_generator.generate_train_data()\n",
    "    sim_dataset_generator.generate_test_data()\n",
    "\n",
    "    "
   ]
  },
  {
   "cell_type": "code",
   "execution_count": 7,
   "metadata": {},
   "outputs": [
    {
     "data": {
      "text/plain": [
       "array([16.0370494])"
      ]
     },
     "execution_count": 7,
     "metadata": {},
     "output_type": "execute_result"
    }
   ],
   "source": [
    "\n",
    "# Draw random SNR\n",
    "SNR_range = [1e-3, 50]\n",
    "\n",
    "desired_SNR = np.random.rand(1) * (SNR_range[1] - SNR_range[0]) + SNR_range[0]\n",
    "\n",
    "desired_SNR\n",
    "\n",
    "\n"
   ]
  },
  {
   "cell_type": "code",
   "execution_count": null,
   "metadata": {},
   "outputs": [],
   "source": [
    "sigma_noise = np.array(\n",
    "    [np.sqrt((np.sum(img ** 2) / (desired_SNR * image_size ** 2))) \n",
    "     for img in short_eigenPSF]\n",
    ")"
   ]
  },
  {
   "cell_type": "code",
   "execution_count": null,
   "metadata": {},
   "outputs": [],
   "source": [
    "\n",
    "sigma_noise = np.sqrt((np.sum(img ** 2) / (desired_SNR * image_size ** 2)))\n"
   ]
  },
  {
   "cell_type": "code",
   "execution_count": 12,
   "metadata": {},
   "outputs": [
    {
     "name": "stdout",
     "output_type": "stream",
     "text": [
      "\n",
      "Processing catalog:  2500000\n"
     ]
    }
   ],
   "source": [
    "\n",
    "\n",
    "_ = [generate_low_density_dataset(cat_id) for cat_id in cat_id_list]\n"
   ]
  },
  {
   "cell_type": "code",
   "execution_count": 13,
   "metadata": {},
   "outputs": [
    {
     "name": "stdout",
     "output_type": "stream",
     "text": [
      "total 3.1G\n",
      "drwxrwxr-x 2 tliaudat tliaudat  135 Feb 24 16:22 .\n",
      "drwxrwxr-x 5 tliaudat tliaudat   80 Feb 24 16:00 ..\n",
      "-rw-rw-r-- 1 tliaudat tliaudat 3.1G Feb 24 16:17 exposure_sim-2500000.npy\n",
      "-rw-rw-r-- 1 tliaudat tliaudat  27M Feb 24 16:22 test_star_selection-2500000.fits\n",
      "-rw-rw-r-- 1 tliaudat tliaudat  25M Feb 24 16:17 train_star_selection-2500000.fits\n"
     ]
    }
   ],
   "source": [
    "\n",
    "!ls -lah /n05data/tliaudat/new_deepmccd/testing_realistic_sims/inputs/low_density/\n"
   ]
  },
  {
   "cell_type": "code",
   "execution_count": null,
   "metadata": {},
   "outputs": [],
   "source": []
  },
  {
   "cell_type": "code",
   "execution_count": 14,
   "metadata": {},
   "outputs": [],
   "source": [
    "train_data = fits.open(output_path + 'train_star_selection-2500000.fits')\n"
   ]
  },
  {
   "cell_type": "code",
   "execution_count": 16,
   "metadata": {},
   "outputs": [
    {
     "data": {
      "text/plain": [
       "ColDefs(\n",
       "    name = 'VIGNET_LIST'; format = '2601D'; dim = '(51, 51)'\n",
       "    name = 'GLOB_POSITION_IMG_LIST'; format = '2D'; dim = '(2,)'\n",
       "    name = 'MASK_LIST'; format = '2601D'; dim = '(51, 51)'\n",
       "    name = 'CCD_ID_LIST'; format = '1D'\n",
       "    name = 'TRUE_E1_HSM'; format = '1D'\n",
       "    name = 'TRUE_E2_HSM'; format = '1D'\n",
       "    name = 'TRUE_SIG_HSM'; format = '1D'\n",
       ")"
      ]
     },
     "execution_count": 16,
     "metadata": {},
     "output_type": "execute_result"
    }
   ],
   "source": [
    "\n",
    "train_data[1].columns\n"
   ]
  },
  {
   "cell_type": "code",
   "execution_count": 18,
   "metadata": {},
   "outputs": [
    {
     "data": {
      "text/plain": [
       "(625, 51, 51)"
      ]
     },
     "execution_count": 18,
     "metadata": {},
     "output_type": "execute_result"
    }
   ],
   "source": [
    "\n",
    "train_data[1].data['VIGNET_LIST'].shape\n"
   ]
  },
  {
   "cell_type": "code",
   "execution_count": 19,
   "metadata": {},
   "outputs": [
    {
     "data": {
      "text/plain": [
       "15.625"
      ]
     },
     "execution_count": 19,
     "metadata": {},
     "output_type": "execute_result"
    }
   ],
   "source": [
    "625/40"
   ]
  },
  {
   "cell_type": "code",
   "execution_count": null,
   "metadata": {},
   "outputs": [],
   "source": []
  }
 ],
 "metadata": {
  "kernelspec": {
   "display_name": "Python 3",
   "language": "python",
   "name": "python3"
  },
  "language_info": {
   "codemirror_mode": {
    "name": "ipython",
    "version": 3
   },
   "file_extension": ".py",
   "mimetype": "text/x-python",
   "name": "python",
   "nbconvert_exporter": "python",
   "pygments_lexer": "ipython3",
   "version": "3.7.7"
  }
 },
 "nbformat": 4,
 "nbformat_minor": 4
}
