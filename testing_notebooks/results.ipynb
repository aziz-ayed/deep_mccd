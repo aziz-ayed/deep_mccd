{
 "cells": [
  {
   "cell_type": "code",
   "execution_count": 1,
   "id": "92c3ba9a",
   "metadata": {},
   "outputs": [
    {
     "name": "stdout",
     "output_type": "stream",
     "text": [
      "%pylab is deprecated, use %matplotlib inline and import the required libraries.\n",
      "Populating the interactive namespace from numpy and matplotlib\n"
     ]
    }
   ],
   "source": [
    "import numpy as np\n",
    "import matplotlib.pyplot as plt\n",
    "\n",
    "%pylab inline\n"
   ]
  },
  {
   "cell_type": "code",
   "execution_count": null,
   "id": "905acfa9",
   "metadata": {},
   "outputs": [],
   "source": []
  },
  {
   "cell_type": "markdown",
   "id": "bd016757",
   "metadata": {},
   "source": [
    "# Real SNR \n",
    "\n"
   ]
  },
  {
   "cell_type": "code",
   "execution_count": null,
   "id": "23b8a069",
   "metadata": {},
   "outputs": [],
   "source": [
    "\n",
    "e1_wav_0 = [0,    0,    0]\n",
    "e1_wav_1 = [0,    0,    0]\n",
    "e1_wav_3 = [0,    4.66e-3,    0]\n",
    "e1_L256 =  [0,    0,    0]\n",
    "\n",
    "e2_wav_0 = [0,    0,    0]\n",
    "e2_wav_1 = [0,    0,    0]\n",
    "e2_wav_3 = [0,    3.60e-3,    0]\n",
    "e2_L256 =  [0,    0,    0]\n",
    "\n",
    "R2_wav_0 = [0,    0,    0]\n",
    "R2_wav_1 = [0,    0,    0]\n",
    "R2_wav_3 = [0,    1.49e-2,    0]\n",
    "R2_L256 =  [0,    0,    0]\n",
    "\n",
    "# big models\n",
    "e1_big_wav_3 = [0,    4.65e-3,    0]\n",
    "e1_big_L256 =  [0,    0,    0]\n",
    "\n",
    "e2_big_wav_3 = [0,    3.59e-3,    0]\n",
    "e2_big_L256 =  [0,    0,    0]\n",
    "\n",
    "R2_big_wav_3 = [0,    1.48e-2,    0]\n",
    "R2_big_L256 =  [0,    0,    0]\n",
    "\n"
   ]
  },
  {
   "cell_type": "code",
   "execution_count": null,
   "id": "7706319a",
   "metadata": {},
   "outputs": [],
   "source": []
  },
  {
   "cell_type": "markdown",
   "id": "f179748a",
   "metadata": {},
   "source": [
    "# Flat SNR\n"
   ]
  },
  {
   "cell_type": "code",
   "execution_count": 2,
   "id": "9dded9c7",
   "metadata": {},
   "outputs": [],
   "source": [
    "# Densities:\n",
    "# s\n",
    "e1_wav_0 = [0,    3.54e-3,    0]\n",
    "e1_wav_1 = [0,    3.39e-3,    0]\n",
    "e1_wav_3 = [0,    4.33e-3,    0]\n",
    "e1_L256 =  [0,    3.35e-3,    0]\n",
    "\n",
    "e2_wav_0 = [0,    3.06e-3,    0]\n",
    "e2_wav_1 = [0,    2.63e-3,    0]\n",
    "e2_wav_3 = [0,    3.10e-3,    0]\n",
    "e2_L256 =  [0,    2.70e-3,    0]\n",
    "\n",
    "R2_wav_0 = [0,    1.27e-2,    0]\n",
    "R2_wav_1 = [0,    1.08e-2,    0]\n",
    "R2_wav_3 = [0,    1.13e-2,    0]\n",
    "R2_L256 =  [0,    1.18e-2,    0]\n",
    "\n"
   ]
  },
  {
   "cell_type": "code",
   "execution_count": null,
   "id": "b752b469",
   "metadata": {},
   "outputs": [],
   "source": []
  },
  {
   "cell_type": "code",
   "execution_count": null,
   "id": "a9e942db",
   "metadata": {},
   "outputs": [],
   "source": []
  },
  {
   "cell_type": "code",
   "execution_count": null,
   "id": "8a8c1589",
   "metadata": {},
   "outputs": [],
   "source": []
  }
 ],
 "metadata": {
  "kernelspec": {
   "display_name": "Python 3 (ipykernel)",
   "language": "python",
   "name": "python3"
  },
  "language_info": {
   "codemirror_mode": {
    "name": "ipython",
    "version": 3
   },
   "file_extension": ".py",
   "mimetype": "text/x-python",
   "name": "python",
   "nbconvert_exporter": "python",
   "pygments_lexer": "ipython3",
   "version": "3.8.12"
  },
  "varInspector": {
   "cols": {
    "lenName": 16,
    "lenType": 16,
    "lenVar": 40
   },
   "kernels_config": {
    "python": {
     "delete_cmd_postfix": "",
     "delete_cmd_prefix": "del ",
     "library": "var_list.py",
     "varRefreshCmd": "print(var_dic_list())"
    },
    "r": {
     "delete_cmd_postfix": ") ",
     "delete_cmd_prefix": "rm(",
     "library": "var_list.r",
     "varRefreshCmd": "cat(var_dic_list()) "
    }
   },
   "types_to_exclude": [
    "module",
    "function",
    "builtin_function_or_method",
    "instance",
    "_Feature"
   ],
   "window_display": false
  }
 },
 "nbformat": 4,
 "nbformat_minor": 5
}
